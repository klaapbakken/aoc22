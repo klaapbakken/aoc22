{
 "cells": [
  {
   "cell_type": "code",
   "execution_count": 8,
   "id": "2d37b467-4d9f-4155-963a-e78cdc5a9bc2",
   "metadata": {},
   "outputs": [],
   "source": [
    "from pathlib import Path\n",
    "import pandas as pd"
   ]
  },
  {
   "cell_type": "code",
   "execution_count": 27,
   "id": "031c77b9-b410-4045-b803-46a20831b220",
   "metadata": {},
   "outputs": [],
   "source": [
    "with Path(\"input.txt\").open(\"r\") as f:\n",
    "    lines =  pd.Series([x.rstrip(\"\\n\") for x in f.readlines()])"
   ]
  },
  {
   "cell_type": "code",
   "execution_count": 32,
   "id": "3b76c6be-b4a1-4207-8505-63c3b44d964a",
   "metadata": {},
   "outputs": [],
   "source": [
    "line_break = lines.str.len() == 0\n",
    "identity = line_breaks.cumsum()"
   ]
  },
  {
   "cell_type": "code",
   "execution_count": 43,
   "id": "05849dd9-c010-4b68-87c8-bc0d57f8bbe3",
   "metadata": {},
   "outputs": [
    {
     "data": {
      "text/plain": [
       "calories    66616\n",
       "dtype: int64"
      ]
     },
     "execution_count": 43,
     "metadata": {},
     "output_type": "execute_result"
    }
   ],
   "source": [
    "(\n",
    "    identity\n",
    "    .loc[~line_break]\n",
    "    .to_frame(\"identity\")\n",
    "    .assign(\n",
    "        calories = pd.Series(lines).loc[~line_breaks].astype(int)\n",
    "    )\n",
    "    .groupby(\"identity\")\n",
    "    .agg(\"sum\")\n",
    "    .max()\n",
    ")"
   ]
  },
  {
   "cell_type": "code",
   "execution_count": 48,
   "id": "ea25319d-df5e-4cbb-a15b-24eebb9f3d0f",
   "metadata": {},
   "outputs": [
    {
     "data": {
      "text/plain": [
       "199172"
      ]
     },
     "execution_count": 48,
     "metadata": {},
     "output_type": "execute_result"
    }
   ],
   "source": [
    "(\n",
    "    identity\n",
    "    .loc[~line_break]\n",
    "    .to_frame(\"identity\")\n",
    "    .assign(\n",
    "        calories = pd.Series(lines).loc[~line_breaks].astype(int)\n",
    "    )\n",
    "    .groupby(\"identity\")\n",
    "    .agg(\"sum\")\n",
    "    .sort_values(\"calories\", ascending=False)\n",
    "    .head(3)\n",
    "    .calories\n",
    "    .sum()\n",
    ")"
   ]
  },
  {
   "cell_type": "code",
   "execution_count": null,
   "id": "42c835ee-db4c-400d-899d-1b545a9783ba",
   "metadata": {},
   "outputs": [],
   "source": []
  }
 ],
 "metadata": {
  "kernelspec": {
   "display_name": "Python 3.11 (aoc22)",
   "language": "python",
   "name": "aoc22"
  },
  "language_info": {
   "codemirror_mode": {
    "name": "ipython",
    "version": 3
   },
   "file_extension": ".py",
   "mimetype": "text/x-python",
   "name": "python",
   "nbconvert_exporter": "python",
   "pygments_lexer": "ipython3",
   "version": "3.11.0"
  }
 },
 "nbformat": 4,
 "nbformat_minor": 5
}
